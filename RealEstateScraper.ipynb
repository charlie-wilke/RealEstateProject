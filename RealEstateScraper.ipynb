{
 "cells": [
  {
   "cell_type": "code",
   "execution_count": 7,
   "metadata": {},
   "outputs": [],
   "source": [
    "import pandas as pd\n",
    "import numpy as np\n",
    "from bs4 import BeautifulSoup\n",
    "from selenium import webdriver\n",
    "from time import sleep\n",
    "import re\n",
    "import requests\n",
    "import urllib\n",
    "from selenium.webdriver.common.by import By\n",
    "from lxml import etree\n",
    "import random"
   ]
  },
  {
   "cell_type": "code",
   "execution_count": 6,
   "metadata": {},
   "outputs": [],
   "source": [
    "url = \"https://www.opentable.com/columbus-restaurant-listings\"\n",
    "\n",
    "driver = webdriver.Chrome(r\"C:\\Users\\wilke\\Downloads\\chromedriver_win32\\chromedriver.exe\")\n",
    "\n",
    "driver.get(url)\n",
    "\n",
    "soup = BeautifulSoup(driver.page_source)\n",
    "\n",
    "all_cards = []\n",
    "\n",
    "page_count = 0\n",
    "\n",
    "for i in soup.find('ul', class_ = 'BklkG9D8lgpsm_Z7JPTQ').children:\n",
    "    page_count += 1\n",
    "\n",
    "for i in range(page_count):\n",
    "    scroll = 720\n",
    "    height = driver.execute_script('return document.body.scrollHeight')\n",
    "    while scroll < height:\n",
    "        sleep(3)\n",
    "        driver.execute_script(f\"window.scrollTo(0, {scroll})\")\n",
    "        scroll += 720\n",
    "\n",
    "    soup = BeautifulSoup(driver.page_source)\n",
    "    cards = soup.find_all('div', class_ = 'BhIFAK4B5RMKaTMhR78N')\n",
    "\n",
    "    all_cards.append(cards)\n",
    "\n",
    "    if i < page_count-1:\n",
    "        driver.find_element(By.CSS_SELECTOR,\"[aria-label = 'Go to the next page']\").click()\n",
    "\n",
    "\n",
    "\n",
    "\n",
    "\n",
    "\n",
    "\n",
    "\n"
   ]
  },
  {
   "cell_type": "code",
   "execution_count": 25,
   "metadata": {},
   "outputs": [],
   "source": [
    "rest_name_loc = []\n",
    "for i in all_cards[0]:\n",
    "    rest_name_loc.append(i.text[:i.text.find('Booked')])\n"
   ]
  },
  {
   "cell_type": "code",
   "execution_count": 2,
   "metadata": {},
   "outputs": [
    {
     "ename": "NameError",
     "evalue": "name 'rest_name_loc' is not defined",
     "output_type": "error",
     "traceback": [
      "\u001b[1;31m---------------------------------------------------------------------------\u001b[0m",
      "\u001b[1;31mNameError\u001b[0m                                 Traceback (most recent call last)",
      "Cell \u001b[1;32mIn[2], line 1\u001b[0m\n\u001b[1;32m----> 1\u001b[0m \u001b[39mlen\u001b[39m(rest_name_loc)\n",
      "\u001b[1;31mNameError\u001b[0m: name 'rest_name_loc' is not defined"
     ]
    }
   ],
   "source": [
    "len(rest_name_loc)"
   ]
  },
  {
   "cell_type": "code",
   "execution_count": null,
   "metadata": {},
   "outputs": [],
   "source": [
    "rest_names = []\n",
    "for i in rest_name_loc:\n",
    "    if i.find('4') != -1:\n",
    "        rest = i[:(i.find('4'))]\n",
    "        rest_names.append(rest)"
   ]
  },
  {
   "cell_type": "code",
   "execution_count": 63,
   "metadata": {},
   "outputs": [
    {
     "ename": "KeyboardInterrupt",
     "evalue": "",
     "output_type": "error",
     "traceback": [
      "\u001b[1;31m---------------------------------------------------------------------------\u001b[0m",
      "\u001b[1;31mKeyboardInterrupt\u001b[0m                         Traceback (most recent call last)",
      "Cell \u001b[1;32mIn[63], line 15\u001b[0m\n\u001b[0;32m      9\u001b[0m driver \u001b[39m=\u001b[39m webdriver\u001b[39m.\u001b[39mFirefox(executable_path\u001b[39m=\u001b[39m\u001b[39mr\u001b[39m\u001b[39m\"\u001b[39m\u001b[39mC:\u001b[39m\u001b[39m\\\u001b[39m\u001b[39mUsers\u001b[39m\u001b[39m\\\u001b[39m\u001b[39mwilke\u001b[39m\u001b[39m\\\u001b[39m\u001b[39mOneDrive\u001b[39m\u001b[39m\\\u001b[39m\u001b[39mDocuments\u001b[39m\u001b[39m\\\u001b[39m\u001b[39mSelenium\u001b[39m\u001b[39m\\\u001b[39m\u001b[39mgeckodriver.exe\u001b[39m\u001b[39m\"\u001b[39m, options\u001b[39m=\u001b[39moptions)\n\u001b[0;32m     13\u001b[0m driver\u001b[39m.\u001b[39mget(url)\n\u001b[1;32m---> 15\u001b[0m sleep(random\u001b[39m.\u001b[39;49mrandint(\u001b[39m3\u001b[39;49m,\u001b[39m15\u001b[39;49m))\n\u001b[0;32m     17\u001b[0m soup \u001b[39m=\u001b[39m BeautifulSoup(driver\u001b[39m.\u001b[39mpage_source)\n\u001b[0;32m     20\u001b[0m dom \u001b[39m=\u001b[39m etree\u001b[39m.\u001b[39mHTML(\u001b[39mstr\u001b[39m(soup))\n",
      "\u001b[1;31mKeyboardInterrupt\u001b[0m: "
     ]
    }
   ],
   "source": [
    "url = \"https://www.realtor.com/realestateandhomes-search/Columbus_OH\"\n",
    "\n",
    "\n",
    "from selenium.webdriver.firefox.options import Options\n",
    "\n",
    "options = Options()\n",
    "options.binary_location = r'C:\\Program Files\\Mozilla Firefox\\firefox.exe'\n",
    "\n",
    "driver = webdriver.Firefox(executable_path=r\"C:\\Users\\wilke\\OneDrive\\Documents\\Selenium\\geckodriver.exe\", options=options)\n",
    "\n",
    "\n",
    "\n",
    "driver.get(url)\n",
    "\n",
    "sleep(random.randint(3,15))\n",
    "\n",
    "soup = BeautifulSoup(driver.page_source)\n",
    "\n",
    "\n",
    "dom = etree.HTML(str(soup))\n",
    "\n",
    "items = []\n",
    "\n",
    "for i in soup.find('ul',{'data-testid': 'property-list-container'}).children:\n",
    "    item = i.get('id')\n",
    "    if item[0] == 'i':\n",
    "        items.append(item)\n",
    "\n",
    "for_sale_list = []\n",
    "beds_list = []\n",
    "baths_list = []\n",
    "sqft_list = []\n",
    "acres_list = []\n",
    "price_list = []\n",
    "address_list = []\n",
    "city_list = []\n",
    "\n",
    "for page in range(50):\n",
    "    for i in items:\n",
    "        for_sale = dom.xpath(f'//*[@id=\"{i}\"]/div/div[2]/div[4]/div[1]/div/span[2]')[0].text\n",
    "        try:\n",
    "            beds = dom.xpath(f'//*[@id=\"{i}\"]/div/div[2]/div[4]/div[2]/div/div[2]/div/ul/li[1]/span[1]')[0].text\n",
    "        except:\n",
    "            beds = None\n",
    "        try:\n",
    "            baths = dom.xpath(f'//*[@id=\"{i}\"]/div/div[2]/div[4]/div[2]/div/div[2]/div/ul/li[2]/span[1]')[0].text\n",
    "        except:\n",
    "            baths = None\n",
    "        try:\n",
    "            sqft = dom.xpath(f'//*[@id=\"{i}\"]/div/div[2]/div[4]/div[2]/div/div[2]/div/ul/li[3]/span[1]')[0].text\n",
    "        except:\n",
    "            sqft = None\n",
    "        try:\n",
    "            acres = dom.xpath(f'//*[@id=\"{i}\"]/div/div[2]/div[4]/div[2]/div/div[2]/div/ul/li[4]/span[1]')[0].text\n",
    "        except IndexError:\n",
    "            acres = None\n",
    "\n",
    "        price = dom.xpath(f'//*[@id=\"{i}\"]/div/div[2]/div[4]/div[2]/div/div[1]/span')[0].text\n",
    "\n",
    "        try:\n",
    "            address = dom.xpath(f'//*[@id=\"{i}\"]/div/div[2]/div[4]/div[2]/div/div[3]/div[1]')[0].text\n",
    "        except:\n",
    "            address = None\n",
    "        try:\n",
    "            city = dom.xpath(f'//*[@id=\"{i}\"]/div/div[2]/div[4]/div[2]/div/div[3]/div[1]/div')[0].text\n",
    "        except:\n",
    "            city = None\n",
    "\n",
    "        for_sale_list.append(for_sale)\n",
    "        beds_list.append(beds)\n",
    "        baths_list.append(baths)\n",
    "        sqft_list.append(sqft)\n",
    "        acres_list.append(acres)\n",
    "        price_list.append(price)\n",
    "        address_list.append(address)\n",
    "        city_list.append(city)\n",
    "\n",
    "    \n",
    "\n",
    "    driver.find_element(By.CSS_SELECTOR,\"[aria-label = 'Go to next page']\").click()\n",
    "\n",
    "    sleep(random.randint(3,15))\n",
    "\n",
    "    soup = BeautifulSoup(driver.page_source)\n",
    "\n",
    "    dom = etree.HTML(str(soup))\n",
    "\n",
    "    items = []\n",
    "\n",
    "    for i in soup.find('ul',{'data-testid': 'property-list-container'}).children:\n",
    "        item = i.get('id')\n",
    "        if item[0] == 'i':\n",
    "            items.append(item)\n",
    "    \n",
    "    \n",
    "    sleep(random.randint(3,15))\n",
    "\n",
    "\n",
    "\n",
    "\n",
    "\n"
   ]
  },
  {
   "cell_type": "code",
   "execution_count": 18,
   "metadata": {},
   "outputs": [],
   "source": [
    "real_estate_df = pd.DataFrame({\n",
    "    'Status':for_sale_list,\n",
    "    'Beds':beds_list,\n",
    "    'Baths':baths_list,\n",
    "    'SQFT': sqft_list,\n",
    "    'Acres':acres_list,\n",
    "    'Price':price_list,\n",
    "    'Address': address_list,\n",
    "    'City':city_list\n",
    "})"
   ]
  },
  {
   "cell_type": "code",
   "execution_count": 61,
   "metadata": {},
   "outputs": [],
   "source": [
    "real_estate_df.to_csv('ScrapedRealEstateData.csv')"
   ]
  }
 ],
 "metadata": {
  "kernelspec": {
   "display_name": "Python 3.7.4 ('base')",
   "language": "python",
   "name": "python3"
  },
  "language_info": {
   "codemirror_mode": {
    "name": "ipython",
    "version": 3
   },
   "file_extension": ".py",
   "mimetype": "text/x-python",
   "name": "python",
   "nbconvert_exporter": "python",
   "pygments_lexer": "ipython3",
   "version": "3.10.9"
  },
  "orig_nbformat": 4,
  "vscode": {
   "interpreter": {
    "hash": "5486444823919bf5533df1e16296b0e50a26ea647816ff0bc099daecd9efa1ed"
   }
  }
 },
 "nbformat": 4,
 "nbformat_minor": 2
}
